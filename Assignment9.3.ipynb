{
 "cells": [
  {
   "cell_type": "code",
   "execution_count": null,
   "metadata": {
    "collapsed": true
   },
   "outputs": [],
   "source": [
    "# Problem Statement:\n",
    "# Calculate F Test for given 10, 20, 30, 40, 50 and 5,10,15, 20, 25. \n",
    "# For 10, 20, 30, 40, 50:\n",
    "\n",
    "Solution:\n",
    "    \n",
    "Step 1: Calculate Variance of first set \n",
    "Total Inputs (N) =(10,20,30,40,50) \n",
    "Total Inputs (N) = 5 \n",
    "Mean (xm)= (x1+x1+x2...xn)/N \n",
    "Mean (xm)= 150/5 = 30\n",
    "SD=sqrt(1/(N-1)*((x1-xm)^2+(x2-xm)^2+..+(xn-xm)^2)) \n",
    "=sqrt(1/(5-1)((10-30)^2+(20-30)^2+(30-30)^2+(40-30)^2+(50-30)^2)) \n",
    "=sqrt(1/4((-20)^2+(-10)^2+(0)^2+(10)^2+(20)^2)) \n",
    "=sqrt(1/4((400)+(100)+(0)+(100)+(400))) \n",
    "=sqrt(250) = 5.8114 \n",
    "Variance=SD^2 \n",
    "Variance=15.8114^2 = 250 \n",
    "\n",
    "Step 2: Calculate Variance of second set \n",
    "Total Inputs(N) =(5,10,15,20,25) \n",
    "Total Inputs(N) = 5 \n",
    "Mean (xm)= (x1+x2+x3...xN) / N \n",
    "Mean (xm)= 75/5 = 15\n",
    "SD=sqrt(1/(N-1)*((x1-xm)^2+(x2-xm)^2+..+(xn-xm)^2)) \n",
    "=sqrt(1/(5-1)((5-15)^2+(10-15)^2+(15-15)^2+(20-15)^2+(25-15)^2)) \n",
    "=sqrt(1/4((-10)^2+(-5)^2+(0)^2+(5)^2+(10)^2)) \n",
    "=sqrt(1/4((100)+(25)+(0)+(25)+(100))) \n",
    "=sqrt(62.5) = 7.9057 \n",
    "Variance=SD^ 2 \n",
    "Variance=7.90572 = 62.5 \n",
    "\n",
    "Step 3: Calculate F Test value\n",
    "F Test = (variance of 10, 20,30,40,50) / (variance of 5, 10, 15, 20, 25) \n",
    "= 250/62.5 = 4\n",
    "Therefore the F Test value is 4\n",
    "\n"
   ]
  }
 ],
 "metadata": {
  "kernelspec": {
   "display_name": "Python 3",
   "language": "python",
   "name": "python3"
  },
  "language_info": {
   "codemirror_mode": {
    "name": "ipython",
    "version": 3
   },
   "file_extension": ".py",
   "mimetype": "text/x-python",
   "name": "python",
   "nbconvert_exporter": "python",
   "pygments_lexer": "ipython3",
   "version": "3.6.3"
  }
 },
 "nbformat": 4,
 "nbformat_minor": 2
}
